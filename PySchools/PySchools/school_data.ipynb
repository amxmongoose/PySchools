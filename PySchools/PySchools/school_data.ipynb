{
 "cells": [
  {
   "cell_type": "code",
   "execution_count": 1,
   "metadata": {},
   "outputs": [],
   "source": [
    "import pandas as pd\n",
    "import os\n",
    "import numpy as np"
   ]
  },
  {
   "cell_type": "markdown",
   "metadata": {},
   "source": [
    "#Takeaway 1: The amount of school funder per student does not correlate to the pass rates for the students at that school.\n",
    "#Takeaway 2: Charter schools outperform district schools in this sample both for math pass rates and reading pass rates\n",
    "#Takeaway 3: Small schools outperform medium and large schoolsfor this sample in both math and reading pass rates"
   ]
  },
  {
   "cell_type": "code",
   "execution_count": 2,
   "metadata": {},
   "outputs": [],
   "source": [
    "schools_csv_path = os.path.join('..', 'raw_data', 'schools_complete.csv')\n",
    "schools_df = pd.read_csv(schools_csv_path)"
   ]
  },
  {
   "cell_type": "code",
   "execution_count": 3,
   "metadata": {},
   "outputs": [],
   "source": [
    "students_csv_path = os.path.join('..', 'raw_data', 'students_complete.csv')\n",
    "students_df = pd.read_csv(students_csv_path)"
   ]
  },
  {
   "cell_type": "code",
   "execution_count": 4,
   "metadata": {},
   "outputs": [],
   "source": [
    "merged_data_df = pd.merge(schools_df,students_df,left_on='name', right_on='school',how='outer')"
   ]
  },
  {
   "cell_type": "code",
   "execution_count": 5,
   "metadata": {},
   "outputs": [],
   "source": [
    "merged_data_df.rename(index=str,columns={'name_x':\"School Master\",'name_y':'Student'},inplace=True)"
   ]
  },
  {
   "cell_type": "code",
   "execution_count": 6,
   "metadata": {},
   "outputs": [],
   "source": [
    "grouped_data = merged_data_df.groupby('School Master')"
   ]
  },
  {
   "cell_type": "code",
   "execution_count": 7,
   "metadata": {},
   "outputs": [],
   "source": [
    "total_students = merged_data_df['Student'].count()\n",
    "total_budget = grouped_data['budget'].unique()\n",
    "total_budget = total_budget.astype(\"int\")\n",
    "total_grouped_students = grouped_data['Student'].count()\n",
    "per_student_budget = total_budget/total_grouped_students\n",
    "average_math = grouped_data['math_score'].sum()/total_grouped_students\n",
    "average_reading = grouped_data['reading_score'].sum()/total_grouped_students"
   ]
  },
  {
   "cell_type": "code",
   "execution_count": 8,
   "metadata": {},
   "outputs": [],
   "source": [
    "math_pass_percent = merged_data_df[merged_data_df['math_score']>69].groupby('School Master').count()\n",
    "math_pass_percent = math_pass_percent['math_score']\n",
    "math_pass_percent = math_pass_percent/total_grouped_students"
   ]
  },
  {
   "cell_type": "code",
   "execution_count": 9,
   "metadata": {},
   "outputs": [],
   "source": [
    "reading_pass_percent = merged_data_df[merged_data_df['reading_score']>69].groupby('School Master').count()\n",
    "reading_pass_percent = reading_pass_percent['reading_score']\n",
    "reading_pass_percent = reading_pass_percent/total_grouped_students"
   ]
  },
  {
   "cell_type": "code",
   "execution_count": 10,
   "metadata": {},
   "outputs": [],
   "source": [
    "total_pass_percent = (math_pass_percent+reading_pass_percent)/2"
   ]
  },
  {
   "cell_type": "code",
   "execution_count": 11,
   "metadata": {},
   "outputs": [],
   "source": [
    "school_type = grouped_data['type'].unique()"
   ]
  },
  {
   "cell_type": "code",
   "execution_count": 25,
   "metadata": {},
   "outputs": [
    {
     "data": {
      "text/html": [
       "<div>\n",
       "<style scoped>\n",
       "    .dataframe tbody tr th:only-of-type {\n",
       "        vertical-align: middle;\n",
       "    }\n",
       "\n",
       "    .dataframe tbody tr th {\n",
       "        vertical-align: top;\n",
       "    }\n",
       "\n",
       "    .dataframe thead th {\n",
       "        text-align: right;\n",
       "    }\n",
       "</style>\n",
       "<table border=\"1\" class=\"dataframe\">\n",
       "  <thead>\n",
       "    <tr style=\"text-align: right;\">\n",
       "      <th></th>\n",
       "      <th>Average Math Score</th>\n",
       "      <th>Average Reading Score</th>\n",
       "      <th>Per Student Budget</th>\n",
       "      <th>Percent Pass Math</th>\n",
       "      <th>Percent Pass Reading</th>\n",
       "      <th>School Type</th>\n",
       "      <th>Total Pass Percent</th>\n",
       "      <th>Total School Budget</th>\n",
       "      <th>Total Students</th>\n",
       "    </tr>\n",
       "    <tr>\n",
       "      <th>School Master</th>\n",
       "      <th></th>\n",
       "      <th></th>\n",
       "      <th></th>\n",
       "      <th></th>\n",
       "      <th></th>\n",
       "      <th></th>\n",
       "      <th></th>\n",
       "      <th></th>\n",
       "      <th></th>\n",
       "    </tr>\n",
       "  </thead>\n",
       "  <tbody>\n",
       "    <tr>\n",
       "      <th>Bailey High School</th>\n",
       "      <td>77.048432</td>\n",
       "      <td>81.033963</td>\n",
       "      <td>628.0</td>\n",
       "      <td>0.666801</td>\n",
       "      <td>0.819333</td>\n",
       "      <td>[District]</td>\n",
       "      <td>0.743067</td>\n",
       "      <td>3124928</td>\n",
       "      <td>4976</td>\n",
       "    </tr>\n",
       "  </tbody>\n",
       "</table>\n",
       "</div>"
      ],
      "text/plain": [
       "                    Average Math Score  Average Reading Score  \\\n",
       "School Master                                                   \n",
       "Bailey High School           77.048432              81.033963   \n",
       "\n",
       "                    Per Student Budget  Percent Pass Math  \\\n",
       "School Master                                               \n",
       "Bailey High School               628.0           0.666801   \n",
       "\n",
       "                    Percent Pass Reading School Type  Total Pass Percent  \\\n",
       "School Master                                                              \n",
       "Bailey High School              0.819333  [District]            0.743067   \n",
       "\n",
       "                    Total School Budget  Total Students  \n",
       "School Master                                            \n",
       "Bailey High School              3124928            4976  "
      ]
     },
     "execution_count": 25,
     "metadata": {},
     "output_type": "execute_result"
    }
   ],
   "source": [
    "school_summary_df = pd.DataFrame({'School Type':school_type,\n",
    "                                  'Total Students':total_grouped_students,\n",
    "                                  'Total School Budget':total_budget,\n",
    "                                 'Per Student Budget':per_student_budget,\n",
    "                                 'Average Math Score':average_math,\n",
    "                                 'Average Reading Score':average_reading,\n",
    "                                 'Percent Pass Math':math_pass_percent,\n",
    "                                 'Percent Pass Reading':reading_pass_percent,\n",
    "                                 'Total Pass Percent':total_pass_percent})\n",
    "\n",
    "school_summary_df.head(1)"
   ]
  },
  {
   "cell_type": "code",
   "execution_count": 13,
   "metadata": {},
   "outputs": [
    {
     "data": {
      "text/plain": [
       "80.393158029103901"
      ]
     },
     "execution_count": 13,
     "metadata": {},
     "output_type": "execute_result"
    }
   ],
   "source": [
    "district_total_schools = merged_data_df.groupby('School Master').nunique()\n",
    "district_total_schools = district_total_schools['Student ID'].count()\n",
    "\n",
    "district_total_students = total_students\n",
    "district_total_budget = total_budget.sum()\n",
    "\n",
    "district_avg_math = merged_data_df['math_score'].mean()\n",
    "district_avg_reading = merged_data_df['reading_score'].mean()\n",
    "\n",
    "district_math_pass_pct = (merged_data_df[merged_data_df['math_score']>69].count())/district_total_students\n",
    "district_reading_pass_pct = (merged_data_df[merged_data_df['reading_score']>69].count())/district_total_students\n",
    "\n",
    "district_math_pass_pct = district_math_pass_pct['Student ID']\n",
    "district_reading_pass_pct = district_reading_pass_pct['Student ID']\n",
    "\n",
    "dist_pass_rate = (district_math_pass_pct+district_reading_pass_pct)/2\n",
    "dist_pass_rate*100"
   ]
  },
  {
   "cell_type": "code",
   "execution_count": 14,
   "metadata": {},
   "outputs": [],
   "source": [
    "district_summary_df = pd.DataFrame({'Total Schools':district_total_schools,\n",
    "                                    'Total Students':district_total_students,\n",
    "                                    'Average Math Score':district_avg_math,\n",
    "                                   'Average Reading Score':district_reading_pass_pct,\n",
    "                                   'Math Pass Percentage':district_math_pass_pct,\n",
    "                                   'Reading Pass Percentage': district_reading_pass_pct,\n",
    "                                   'Total Pass Rate':dist_pass_rate},index=['District'])"
   ]
  },
  {
   "cell_type": "code",
   "execution_count": 15,
   "metadata": {},
   "outputs": [
    {
     "data": {
      "text/html": [
       "<div>\n",
       "<style scoped>\n",
       "    .dataframe tbody tr th:only-of-type {\n",
       "        vertical-align: middle;\n",
       "    }\n",
       "\n",
       "    .dataframe tbody tr th {\n",
       "        vertical-align: top;\n",
       "    }\n",
       "\n",
       "    .dataframe thead th {\n",
       "        text-align: right;\n",
       "    }\n",
       "</style>\n",
       "<table border=\"1\" class=\"dataframe\">\n",
       "  <thead>\n",
       "    <tr style=\"text-align: right;\">\n",
       "      <th></th>\n",
       "      <th>Average Math Score</th>\n",
       "      <th>Average Reading Score</th>\n",
       "      <th>Math Pass Percentage</th>\n",
       "      <th>Reading Pass Percentage</th>\n",
       "      <th>Total Pass Rate</th>\n",
       "      <th>Total Schools</th>\n",
       "      <th>Total Students</th>\n",
       "    </tr>\n",
       "  </thead>\n",
       "  <tbody>\n",
       "    <tr>\n",
       "      <th>District</th>\n",
       "      <td>78.985371</td>\n",
       "      <td>0.858055</td>\n",
       "      <td>0.749809</td>\n",
       "      <td>0.858055</td>\n",
       "      <td>0.803932</td>\n",
       "      <td>15</td>\n",
       "      <td>39170</td>\n",
       "    </tr>\n",
       "  </tbody>\n",
       "</table>\n",
       "</div>"
      ],
      "text/plain": [
       "          Average Math Score  Average Reading Score  Math Pass Percentage  \\\n",
       "District           78.985371               0.858055              0.749809   \n",
       "\n",
       "          Reading Pass Percentage  Total Pass Rate  Total Schools  \\\n",
       "District                 0.858055         0.803932             15   \n",
       "\n",
       "          Total Students  \n",
       "District           39170  "
      ]
     },
     "execution_count": 15,
     "metadata": {},
     "output_type": "execute_result"
    }
   ],
   "source": [
    "district_summary_df"
   ]
  },
  {
   "cell_type": "code",
   "execution_count": 16,
   "metadata": {},
   "outputs": [
    {
     "data": {
      "text/html": [
       "<div>\n",
       "<style scoped>\n",
       "    .dataframe tbody tr th:only-of-type {\n",
       "        vertical-align: middle;\n",
       "    }\n",
       "\n",
       "    .dataframe tbody tr th {\n",
       "        vertical-align: top;\n",
       "    }\n",
       "\n",
       "    .dataframe thead th {\n",
       "        text-align: right;\n",
       "    }\n",
       "</style>\n",
       "<table border=\"1\" class=\"dataframe\">\n",
       "  <thead>\n",
       "    <tr style=\"text-align: right;\">\n",
       "      <th></th>\n",
       "      <th>Average Math Score</th>\n",
       "      <th>Average Reading Score</th>\n",
       "      <th>Per Student Budget</th>\n",
       "      <th>Percent Pass Math</th>\n",
       "      <th>Percent Pass Reading</th>\n",
       "      <th>School Type</th>\n",
       "      <th>Total Pass Percent</th>\n",
       "      <th>Total School Budget</th>\n",
       "      <th>Total Students</th>\n",
       "    </tr>\n",
       "    <tr>\n",
       "      <th>School Master</th>\n",
       "      <th></th>\n",
       "      <th></th>\n",
       "      <th></th>\n",
       "      <th></th>\n",
       "      <th></th>\n",
       "      <th></th>\n",
       "      <th></th>\n",
       "      <th></th>\n",
       "      <th></th>\n",
       "    </tr>\n",
       "  </thead>\n",
       "  <tbody>\n",
       "    <tr>\n",
       "      <th>Cabrera High School</th>\n",
       "      <td>83.061895</td>\n",
       "      <td>83.97578</td>\n",
       "      <td>582.0</td>\n",
       "      <td>0.941335</td>\n",
       "      <td>0.970398</td>\n",
       "      <td>[Charter]</td>\n",
       "      <td>0.955867</td>\n",
       "      <td>1081356</td>\n",
       "      <td>1858</td>\n",
       "    </tr>\n",
       "  </tbody>\n",
       "</table>\n",
       "</div>"
      ],
      "text/plain": [
       "                     Average Math Score  Average Reading Score  \\\n",
       "School Master                                                    \n",
       "Cabrera High School           83.061895               83.97578   \n",
       "\n",
       "                     Per Student Budget  Percent Pass Math  \\\n",
       "School Master                                                \n",
       "Cabrera High School               582.0           0.941335   \n",
       "\n",
       "                     Percent Pass Reading School Type  Total Pass Percent  \\\n",
       "School Master                                                               \n",
       "Cabrera High School              0.970398   [Charter]            0.955867   \n",
       "\n",
       "                     Total School Budget  Total Students  \n",
       "School Master                                             \n",
       "Cabrera High School              1081356            1858  "
      ]
     },
     "execution_count": 16,
     "metadata": {},
     "output_type": "execute_result"
    }
   ],
   "source": [
    "top_schools_df = school_summary_df.sort_values(by=['Total Pass Percent'],ascending=False)\n",
    "top_schools_df.head(1)"
   ]
  },
  {
   "cell_type": "code",
   "execution_count": 17,
   "metadata": {},
   "outputs": [
    {
     "data": {
      "text/html": [
       "<div>\n",
       "<style scoped>\n",
       "    .dataframe tbody tr th:only-of-type {\n",
       "        vertical-align: middle;\n",
       "    }\n",
       "\n",
       "    .dataframe tbody tr th {\n",
       "        vertical-align: top;\n",
       "    }\n",
       "\n",
       "    .dataframe thead th {\n",
       "        text-align: right;\n",
       "    }\n",
       "</style>\n",
       "<table border=\"1\" class=\"dataframe\">\n",
       "  <thead>\n",
       "    <tr style=\"text-align: right;\">\n",
       "      <th></th>\n",
       "      <th>Average Math Score</th>\n",
       "      <th>Average Reading Score</th>\n",
       "      <th>Per Student Budget</th>\n",
       "      <th>Percent Pass Math</th>\n",
       "      <th>Percent Pass Reading</th>\n",
       "      <th>School Type</th>\n",
       "      <th>Total Pass Percent</th>\n",
       "      <th>Total School Budget</th>\n",
       "      <th>Total Students</th>\n",
       "    </tr>\n",
       "    <tr>\n",
       "      <th>School Master</th>\n",
       "      <th></th>\n",
       "      <th></th>\n",
       "      <th></th>\n",
       "      <th></th>\n",
       "      <th></th>\n",
       "      <th></th>\n",
       "      <th></th>\n",
       "      <th></th>\n",
       "      <th></th>\n",
       "    </tr>\n",
       "  </thead>\n",
       "  <tbody>\n",
       "    <tr>\n",
       "      <th>Rodriguez High School</th>\n",
       "      <td>76.842711</td>\n",
       "      <td>80.744686</td>\n",
       "      <td>637.0</td>\n",
       "      <td>0.663666</td>\n",
       "      <td>0.802201</td>\n",
       "      <td>[District]</td>\n",
       "      <td>0.732933</td>\n",
       "      <td>2547363</td>\n",
       "      <td>3999</td>\n",
       "    </tr>\n",
       "  </tbody>\n",
       "</table>\n",
       "</div>"
      ],
      "text/plain": [
       "                       Average Math Score  Average Reading Score  \\\n",
       "School Master                                                      \n",
       "Rodriguez High School           76.842711              80.744686   \n",
       "\n",
       "                       Per Student Budget  Percent Pass Math  \\\n",
       "School Master                                                  \n",
       "Rodriguez High School               637.0           0.663666   \n",
       "\n",
       "                       Percent Pass Reading School Type  Total Pass Percent  \\\n",
       "School Master                                                                 \n",
       "Rodriguez High School              0.802201  [District]            0.732933   \n",
       "\n",
       "                       Total School Budget  Total Students  \n",
       "School Master                                               \n",
       "Rodriguez High School              2547363            3999  "
      ]
     },
     "execution_count": 17,
     "metadata": {},
     "output_type": "execute_result"
    }
   ],
   "source": [
    "bottom_schools_df = school_summary_df.sort_values(by=['Total Pass Percent'])\n",
    "bottom_schools_df.head(1)"
   ]
  },
  {
   "cell_type": "code",
   "execution_count": 18,
   "metadata": {},
   "outputs": [
    {
     "data": {
      "text/plain": [
       "School Master       grade\n",
       "Bailey High School  10th     76.996772\n",
       "                    11th     77.515588\n",
       "                    12th     76.492218\n",
       "Name: math_score, dtype: float64"
      ]
     },
     "execution_count": 18,
     "metadata": {},
     "output_type": "execute_result"
    }
   ],
   "source": [
    "grouped_data_grade_df = merged_data_df.groupby(['School Master','grade'])\n",
    "grouped_data_grade_math = grouped_data_grade_df['math_score'].mean()\n",
    "grouped_data_grade_math.head(3)"
   ]
  },
  {
   "cell_type": "code",
   "execution_count": 19,
   "metadata": {},
   "outputs": [
    {
     "data": {
      "text/plain": [
       "School Master       grade\n",
       "Bailey High School  10th     80.907183\n",
       "                    11th     80.945643\n",
       "                    12th     80.912451\n",
       "Name: reading_score, dtype: float64"
      ]
     },
     "execution_count": 19,
     "metadata": {},
     "output_type": "execute_result"
    }
   ],
   "source": [
    "grouped_data_grade_reading = grouped_data_grade_df['reading_score'].mean()\n",
    "grouped_data_grade_reading.head(3)"
   ]
  },
  {
   "cell_type": "code",
   "execution_count": 20,
   "metadata": {},
   "outputs": [],
   "source": [
    "bins = [0, 600, 625, 650, 675]\n",
    "group_names = ['critical', 'low', 'moderate', 'high']\n",
    "school_summary_df['funding category'] = pd.cut(school_summary_df[\"Per Student Budget\"],bins, labels=group_names)\n",
    "\n",
    "school_funding_summary_df = school_summary_df.groupby(['funding category'])\n",
    "school_funding_summary_df = school_funding_summary_df.mean()"
   ]
  },
  {
   "cell_type": "code",
   "execution_count": 21,
   "metadata": {},
   "outputs": [
    {
     "data": {
      "text/html": [
       "<div>\n",
       "<style scoped>\n",
       "    .dataframe tbody tr th:only-of-type {\n",
       "        vertical-align: middle;\n",
       "    }\n",
       "\n",
       "    .dataframe tbody tr th {\n",
       "        vertical-align: top;\n",
       "    }\n",
       "\n",
       "    .dataframe thead th {\n",
       "        text-align: right;\n",
       "    }\n",
       "</style>\n",
       "<table border=\"1\" class=\"dataframe\">\n",
       "  <thead>\n",
       "    <tr style=\"text-align: right;\">\n",
       "      <th></th>\n",
       "      <th>Average Math Score</th>\n",
       "      <th>Average Reading Score</th>\n",
       "      <th>Per Student Budget</th>\n",
       "      <th>Percent Pass Math</th>\n",
       "      <th>Percent Pass Reading</th>\n",
       "      <th>Total Pass Percent</th>\n",
       "    </tr>\n",
       "    <tr>\n",
       "      <th>funding category</th>\n",
       "      <th></th>\n",
       "      <th></th>\n",
       "      <th></th>\n",
       "      <th></th>\n",
       "      <th></th>\n",
       "      <th></th>\n",
       "    </tr>\n",
       "  </thead>\n",
       "  <tbody>\n",
       "    <tr>\n",
       "      <th>critical</th>\n",
       "      <td>83.436210</td>\n",
       "      <td>83.892196</td>\n",
       "      <td>584.800000</td>\n",
       "      <td>0.935415</td>\n",
       "      <td>0.964596</td>\n",
       "      <td>0.950006</td>\n",
       "    </tr>\n",
       "    <tr>\n",
       "      <th>low</th>\n",
       "      <td>83.595708</td>\n",
       "      <td>83.930728</td>\n",
       "      <td>617.000000</td>\n",
       "      <td>0.939935</td>\n",
       "      <td>0.965425</td>\n",
       "      <td>0.952680</td>\n",
       "    </tr>\n",
       "    <tr>\n",
       "      <th>moderate</th>\n",
       "      <td>78.032719</td>\n",
       "      <td>81.416375</td>\n",
       "      <td>639.333333</td>\n",
       "      <td>0.711124</td>\n",
       "      <td>0.834538</td>\n",
       "      <td>0.772831</td>\n",
       "    </tr>\n",
       "    <tr>\n",
       "      <th>high</th>\n",
       "      <td>76.959583</td>\n",
       "      <td>81.058567</td>\n",
       "      <td>653.500000</td>\n",
       "      <td>0.662184</td>\n",
       "      <td>0.810897</td>\n",
       "      <td>0.736541</td>\n",
       "    </tr>\n",
       "  </tbody>\n",
       "</table>\n",
       "</div>"
      ],
      "text/plain": [
       "                  Average Math Score  Average Reading Score  \\\n",
       "funding category                                              \n",
       "critical                   83.436210              83.892196   \n",
       "low                        83.595708              83.930728   \n",
       "moderate                   78.032719              81.416375   \n",
       "high                       76.959583              81.058567   \n",
       "\n",
       "                  Per Student Budget  Percent Pass Math  Percent Pass Reading  \\\n",
       "funding category                                                                \n",
       "critical                  584.800000           0.935415              0.964596   \n",
       "low                       617.000000           0.939935              0.965425   \n",
       "moderate                  639.333333           0.711124              0.834538   \n",
       "high                      653.500000           0.662184              0.810897   \n",
       "\n",
       "                  Total Pass Percent  \n",
       "funding category                      \n",
       "critical                    0.950006  \n",
       "low                         0.952680  \n",
       "moderate                    0.772831  \n",
       "high                        0.736541  "
      ]
     },
     "execution_count": 21,
     "metadata": {},
     "output_type": "execute_result"
    }
   ],
   "source": [
    "school_funding_summary_df.drop(columns=['Total Students','Total School Budget'])"
   ]
  },
  {
   "cell_type": "code",
   "execution_count": 22,
   "metadata": {},
   "outputs": [],
   "source": [
    "bins = [0, 1250, 2501, 5001]\n",
    "group_names = ['Small', 'Medium', 'Large']\n",
    "school_summary_df['school size'] = pd.cut(school_summary_df[\"Total Students\"],bins, labels=group_names)\n",
    "school_size_df = school_summary_df.groupby(['school size'])\n",
    "school_size_df = school_size_df.mean()"
   ]
  },
  {
   "cell_type": "code",
   "execution_count": 23,
   "metadata": {},
   "outputs": [
    {
     "data": {
      "text/html": [
       "<div>\n",
       "<style scoped>\n",
       "    .dataframe tbody tr th:only-of-type {\n",
       "        vertical-align: middle;\n",
       "    }\n",
       "\n",
       "    .dataframe tbody tr th {\n",
       "        vertical-align: top;\n",
       "    }\n",
       "\n",
       "    .dataframe thead th {\n",
       "        text-align: right;\n",
       "    }\n",
       "</style>\n",
       "<table border=\"1\" class=\"dataframe\">\n",
       "  <thead>\n",
       "    <tr style=\"text-align: right;\">\n",
       "      <th></th>\n",
       "      <th>Average Math Score</th>\n",
       "      <th>Average Reading Score</th>\n",
       "      <th>Per Student Budget</th>\n",
       "      <th>Percent Pass Math</th>\n",
       "      <th>Percent Pass Reading</th>\n",
       "      <th>Total Pass Percent</th>\n",
       "    </tr>\n",
       "    <tr>\n",
       "      <th>school size</th>\n",
       "      <th></th>\n",
       "      <th></th>\n",
       "      <th></th>\n",
       "      <th></th>\n",
       "      <th></th>\n",
       "      <th></th>\n",
       "    </tr>\n",
       "  </thead>\n",
       "  <tbody>\n",
       "    <tr>\n",
       "      <th>Small</th>\n",
       "      <td>83.821598</td>\n",
       "      <td>83.929843</td>\n",
       "      <td>595.000000</td>\n",
       "      <td>0.935502</td>\n",
       "      <td>0.960994</td>\n",
       "      <td>0.948248</td>\n",
       "    </tr>\n",
       "    <tr>\n",
       "      <th>Medium</th>\n",
       "      <td>83.357937</td>\n",
       "      <td>83.885280</td>\n",
       "      <td>601.000000</td>\n",
       "      <td>0.936444</td>\n",
       "      <td>0.967488</td>\n",
       "      <td>0.951966</td>\n",
       "    </tr>\n",
       "    <tr>\n",
       "      <th>Large</th>\n",
       "      <td>76.956733</td>\n",
       "      <td>80.966636</td>\n",
       "      <td>643.571429</td>\n",
       "      <td>0.665485</td>\n",
       "      <td>0.807991</td>\n",
       "      <td>0.736738</td>\n",
       "    </tr>\n",
       "  </tbody>\n",
       "</table>\n",
       "</div>"
      ],
      "text/plain": [
       "             Average Math Score  Average Reading Score  Per Student Budget  \\\n",
       "school size                                                                  \n",
       "Small                 83.821598              83.929843          595.000000   \n",
       "Medium                83.357937              83.885280          601.000000   \n",
       "Large                 76.956733              80.966636          643.571429   \n",
       "\n",
       "             Percent Pass Math  Percent Pass Reading  Total Pass Percent  \n",
       "school size                                                               \n",
       "Small                 0.935502              0.960994            0.948248  \n",
       "Medium                0.936444              0.967488            0.951966  \n",
       "Large                 0.665485              0.807991            0.736738  "
      ]
     },
     "execution_count": 23,
     "metadata": {},
     "output_type": "execute_result"
    }
   ],
   "source": [
    "school_size_df.drop(columns=['Total Students','Total School Budget'])"
   ]
  },
  {
   "cell_type": "code",
   "execution_count": 24,
   "metadata": {},
   "outputs": [
    {
     "data": {
      "text/html": [
       "<div>\n",
       "<style scoped>\n",
       "    .dataframe tbody tr th:only-of-type {\n",
       "        vertical-align: middle;\n",
       "    }\n",
       "\n",
       "    .dataframe tbody tr th {\n",
       "        vertical-align: top;\n",
       "    }\n",
       "\n",
       "    .dataframe thead th {\n",
       "        text-align: right;\n",
       "    }\n",
       "</style>\n",
       "<table border=\"1\" class=\"dataframe\">\n",
       "  <thead>\n",
       "    <tr style=\"text-align: right;\">\n",
       "      <th></th>\n",
       "      <th>Average Math Score</th>\n",
       "      <th>Average Reading Score</th>\n",
       "      <th>Per Student Budget</th>\n",
       "      <th>Percent Pass Math</th>\n",
       "      <th>Percent Pass Reading</th>\n",
       "      <th>Total Pass Percent</th>\n",
       "    </tr>\n",
       "    <tr>\n",
       "      <th>School Type</th>\n",
       "      <th></th>\n",
       "      <th></th>\n",
       "      <th></th>\n",
       "      <th></th>\n",
       "      <th></th>\n",
       "      <th></th>\n",
       "    </tr>\n",
       "  </thead>\n",
       "  <tbody>\n",
       "    <tr>\n",
       "      <th>['Charter']</th>\n",
       "      <td>83.473852</td>\n",
       "      <td>83.896421</td>\n",
       "      <td>599.500000</td>\n",
       "      <td>0.936208</td>\n",
       "      <td>0.965865</td>\n",
       "      <td>0.951037</td>\n",
       "    </tr>\n",
       "    <tr>\n",
       "      <th>['District']</th>\n",
       "      <td>76.956733</td>\n",
       "      <td>80.966636</td>\n",
       "      <td>643.571429</td>\n",
       "      <td>0.665485</td>\n",
       "      <td>0.807991</td>\n",
       "      <td>0.736738</td>\n",
       "    </tr>\n",
       "  </tbody>\n",
       "</table>\n",
       "</div>"
      ],
      "text/plain": [
       "              Average Math Score  Average Reading Score  Per Student Budget  \\\n",
       "School Type                                                                   \n",
       "['Charter']            83.473852              83.896421          599.500000   \n",
       "['District']           76.956733              80.966636          643.571429   \n",
       "\n",
       "              Percent Pass Math  Percent Pass Reading  Total Pass Percent  \n",
       "School Type                                                                \n",
       "['Charter']            0.936208              0.965865            0.951037  \n",
       "['District']           0.665485              0.807991            0.736738  "
      ]
     },
     "execution_count": 24,
     "metadata": {},
     "output_type": "execute_result"
    }
   ],
   "source": [
    "school_type_df = school_summary_df\n",
    "school_type_df = school_type_df.drop(columns=['Total Students', 'Total School Budget'])\n",
    "school_type_df['School Type'] = school_type_df['School Type'].astype(str)\n",
    "school_type_df = school_type_df.groupby(['School Type'])\n",
    "school_type_df.mean()"
   ]
  },
  {
   "cell_type": "code",
   "execution_count": null,
   "metadata": {},
   "outputs": [],
   "source": []
  },
  {
   "cell_type": "code",
   "execution_count": null,
   "metadata": {},
   "outputs": [],
   "source": []
  }
 ],
 "metadata": {
  "kernelspec": {
   "display_name": "Python [conda env:anaconda3]",
   "language": "python",
   "name": "conda-env-anaconda3-py"
  },
  "language_info": {
   "codemirror_mode": {
    "name": "ipython",
    "version": 3
   },
   "file_extension": ".py",
   "mimetype": "text/x-python",
   "name": "python",
   "nbconvert_exporter": "python",
   "pygments_lexer": "ipython3",
   "version": "3.6.3"
  }
 },
 "nbformat": 4,
 "nbformat_minor": 2
}
